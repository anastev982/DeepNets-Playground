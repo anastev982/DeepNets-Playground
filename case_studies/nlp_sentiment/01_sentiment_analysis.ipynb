{
 "cells": [
  {
   "cell_type": "code",
   "execution_count": 2,
   "id": "8dc355d1",
   "metadata": {},
   "outputs": [
    {
     "name": "stdout",
     "output_type": "stream",
     "text": [
      "Train size: 2379  Test size: 1584\n",
      "Classes: ['rec.autos', 'rec.motorcycles', 'sci.med', 'sci.space']\n",
      "\n",
      "Sample text:\n",
      " Alright, beat this automobile sighting.\n",
      "\n",
      "Driving along just a hair north of Atlanta, I noticed an old, run down\n",
      "former car dealership which appeared to deal with, and repair, older\n",
      "rare or exotic foreign sports cars. I saw:\n",
      "\n",
      "Ford GT-40 (!), the famous model from Ford, that seemed to win most of \n",
      "its races in the late 60s, including Le-Mans 4 or 6 times.\n",
      "\n",
      "Two Jensen Interceptors, one a convertable, ...\n"
     ]
    }
   ],
   "source": [
    "import numpy as np, pandas as pd, matplotlib.pyplot as plt, json\n",
    "from pathlib import Path\n",
    "\n",
    "from sklearn.datasets import fetch_20newsgroups\n",
    "from sklearn.model_selection import StratifiedKFold, cross_val_score\n",
    "from sklearn.pipeline import Pipeline\n",
    "from sklearn.feature_extraction.text import TfidfVectorizer\n",
    "from sklearn.linear_model import LogisticRegression\n",
    "from sklearn.naive_bayes import MultinomialNB\n",
    "from sklearn.metrics import accuracy_score, f1_score, classification_report, confusion_matrix\n",
    "\n",
    "RNG = 42\n",
    "\n",
    "CATS = ['rec.autos','rec.motorcycles','sci.med','sci.space']\n",
    "\n",
    "train = fetch_20newsgroups(subset='train', categories=CATS, remove=('headers','footers','quotes'), shuffle=True, random_state=RNG)\n",
    "test  = fetch_20newsgroups(subset='test',  categories=CATS, remove=('headers','footers','quotes'), shuffle=True, random_state=RNG)\n",
    "\n",
    "Xtr, ytr = train.data, train.target\n",
    "Xte, yte = test.data,  test.target\n",
    "target_names = train.target_names\n",
    "\n",
    "print(\"Train size:\", len(Xtr), \" Test size:\", len(Xte))\n",
    "print(\"Classes:\", target_names)\n",
    "print(\"\\nSample text:\\n\", Xtr[0][:400], \"...\")\n"
   ]
  },
  {
   "cell_type": "code",
   "execution_count": 3,
   "id": "9b479a5f",
   "metadata": {},
   "outputs": [
    {
     "name": "stdout",
     "output_type": "stream",
     "text": [
      "LogReg CV macro-F1: 0.823 ± 0.016  [0.829 0.797 0.826 0.844 0.816]\n",
      "\n",
      "LogReg TEST:\n",
      "acc=0.819  f1_macro=0.821\n",
      "                 precision    recall  f1-score   support\n",
      "\n",
      "      rec.autos      0.795     0.793     0.794       396\n",
      "rec.motorcycles      0.733     0.847     0.786       398\n",
      "        sci.med      0.899     0.806     0.850       396\n",
      "      sci.space      0.877     0.832     0.854       394\n",
      "\n",
      "       accuracy                          0.819      1584\n",
      "      macro avg      0.826     0.819     0.821      1584\n",
      "   weighted avg      0.826     0.819     0.821      1584\n",
      "\n"
     ]
    }
   ],
   "source": [
    "# Pipeline: TF-IDF + Logistic Regression (CV + test)\n",
    "\n",
    "logreg = Pipeline([\n",
    "    (\"tfidf\", TfidfVectorizer(ngram_range=(1,2), min_df=2, max_df=0.9)),\n",
    "    (\"clf\", LogisticRegression(max_iter=1000, n_jobs=None, random_state=RNG))\n",
    "])\n",
    "\n",
    "cv = StratifiedKFold(n_splits=5, shuffle=True, random_state=RNG)\n",
    "cv_scores = cross_val_score(logreg, Xtr, ytr, cv=cv, scoring=\"f1_macro\")\n",
    "print(f\"LogReg CV macro-F1: {cv_scores.mean():.3f} ± {cv_scores.std():.3f}  {np.round(cv_scores,3)}\")\n",
    "\n",
    "logreg.fit(Xtr, ytr)\n",
    "yp = logreg.predict(Xte)\n",
    "\n",
    "print(\"\\nLogReg TEST:\")\n",
    "print(f\"acc={accuracy_score(yte, yp):.3f}  f1_macro={f1_score(yte, yp, average='macro'):.3f}\")\n",
    "print(classification_report(yte, yp, target_names=target_names, digits=3))\n"
   ]
  },
  {
   "cell_type": "code",
   "execution_count": 4,
   "id": "4f2409c4",
   "metadata": {},
   "outputs": [
    {
     "data": {
      "image/png": "[encoded data removed]",
      "text/plain": [
       "<Figure size 500x400 with 1 Axes>"
      ]
     },
     "metadata": {},
     "output_type": "display_data"
    }
   ],
   "source": [
    "# LogReg\n",
    "\n",
    "cm = confusion_matrix(yte, yp)\n",
    "plt.figure(figsize=(5,4))\n",
    "plt.imshow(cm, cmap=\"Blues\")\n",
    "plt.title(\"Confusion Matrix — LogReg (TF-IDF)\")\n",
    "plt.xlabel(\"Predicted\"); plt.ylabel(\"True\")\n",
    "for i in range(cm.shape[0]):\n",
    "    for j in range(cm.shape[1]):\n",
    "        v = cm[i,j]\n",
    "        plt.text(j, i, v, ha=\"center\", va=\"center\",\n",
    "                 color=(\"white\" if v > cm.max()/2 else \"black\"))\n",
    "plt.tight_layout(); plt.show()\n"
   ]
  },
  {
   "cell_type": "code",
   "execution_count": 5,
   "id": "f57728bd",
   "metadata": {},
   "outputs": [
    {
     "name": "stdout",
     "output_type": "stream",
     "text": [
      "NaiveBayes CV macro-F1: 0.836 ± 0.027  [0.834 0.791 0.858 0.87  0.826]\n",
      "\n",
      "NaiveBayes TEST:\n",
      "acc=0.824  f1_macro=0.824\n",
      "                 precision    recall  f1-score   support\n",
      "\n",
      "      rec.autos      0.822     0.806     0.814       396\n",
      "rec.motorcycles      0.784     0.766     0.775       398\n",
      "        sci.med      0.814     0.894     0.852       396\n",
      "      sci.space      0.882     0.832     0.856       394\n",
      "\n",
      "       accuracy                          0.824      1584\n",
      "      macro avg      0.825     0.825     0.824      1584\n",
      "   weighted avg      0.825     0.824     0.824      1584\n",
      "\n"
     ]
    }
   ],
   "source": [
    "# MultinomialNB\n",
    "\n",
    "nb = Pipeline([\n",
    "    (\"tfidf\", TfidfVectorizer(ngram_range=(1,2), min_df=2, max_df=0.9)),\n",
    "    (\"clf\", MultinomialNB())\n",
    "])\n",
    "\n",
    "cv_nb = cross_val_score(nb, Xtr, ytr, cv=cv, scoring=\"f1_macro\")\n",
    "print(f\"NaiveBayes CV macro-F1: {cv_nb.mean():.3f} ± {cv_nb.std():.3f}  {np.round(cv_nb,3)}\")\n",
    "\n",
    "nb.fit(Xtr, ytr)\n",
    "yp_nb = nb.predict(Xte)\n",
    "print(\"\\nNaiveBayes TEST:\")\n",
    "print(f\"acc={accuracy_score(yte, yp_nb):.3f}  f1_macro={f1_score(yte, yp_nb, average='macro'):.3f}\")\n",
    "print(classification_report(yte, yp_nb, target_names=target_names, digits=3))\n"
   ]
  },
  {
   "cell_type": "code",
   "execution_count": 6,
   "id": "c6a005d9",
   "metadata": {},
   "outputs": [
    {
     "name": "stdout",
     "output_type": "stream",
     "text": [
      "Saved metrics → case_studies/nlp_sentiment/outputs/metrics_20news.json\n",
      "Saved: case_studies/nlp_sentiment/outputs/confusion_logreg.png\n",
      "Saved: case_studies/nlp_sentiment/outputs/confusion_naive_bayes.png\n"
     ]
    }
   ],
   "source": [
    "# Save metrics\n",
    "\n",
    "OUT = Path(\"case_studies/nlp_sentiment/outputs\")\n",
    "OUT.mkdir(parents=True, exist_ok=True)\n",
    "\n",
    "# metrics.json\n",
    "metrics = {\n",
    "    \"LogReg\": {\"cv_f1_mean\": float(cv_scores.mean()), \"cv_f1_std\": float(cv_scores.std()),\n",
    "               \"test_acc\": float(accuracy_score(yte, yp)), \"test_f1_macro\": float(f1_score(yte, yp, average='macro'))},\n",
    "    \"NaiveBayes\": {\"cv_f1_mean\": float(cv_nb.mean()), \"cv_f1_std\": float(cv_nb.std()),\n",
    "                   \"test_acc\": float(accuracy_score(yte, yp_nb)), \"test_f1_macro\": float(f1_score(yte, yp_nb, average='macro'))}\n",
    "}\n",
    "(OUT / \"metrics_20news.json\").write_text(json.dumps(metrics, indent=2))\n",
    "print(\"Saved metrics →\", OUT / \"metrics_20news.json\")\n",
    "\n",
    "# Confusion plots (LogReg + NB)\n",
    "for name, preds, cmap in [(\"logreg\",\"yp\",\"Blues\"), (\"naive_bayes\",\"yp_nb\",\"Greens\")]:\n",
    "    cm = confusion_matrix(yte, locals()[preds])\n",
    "    plt.figure(figsize=(5,4))\n",
    "    plt.imshow(cm, cmap=cmap)\n",
    "    plt.title(f\"Confusion — {name}\")\n",
    "    plt.xlabel(\"Predicted\"); plt.ylabel(\"True\")\n",
    "    for i in range(cm.shape[0]):\n",
    "        for j in range(cm.shape[1]):\n",
    "            v = cm[i,j]\n",
    "            plt.text(j, i, v, ha=\"center\", va=\"center\",\n",
    "                     color=(\"white\" if v > cm.max()/2 else \"black\"))\n",
    "    plt.tight_layout()\n",
    "    fig_path = OUT / f\"confusion_{name}.png\"\n",
    "    plt.savefig(fig_path, dpi=150); plt.close()\n",
    "    print(\"Saved:\", fig_path)\n"
   ]
  },
  {
   "cell_type": "code",
   "execution_count": null,
   "id": "046b6003",
   "metadata": {},
   "outputs": [],
   "source": []
  },
  {
   "cell_type": "markdown",
   "id": "e3d9fb05",
   "metadata": {},
   "source": [
    "## Conclusion\n",
    "\n",
    "- We trained two models (Logistic Regression with TF-IDF and Naive Bayes) on text data.  \n",
    "- Both models performed strongly, with Logistic Regression usually giving the best macro-F1.  \n",
    "- The cross-validation and held-out test results show good generalization.  \n",
    "- For future work, we could:\n",
    "  - Try deeper models (e.g. transformers, CNNs/RNNs for text).\n",
    "  - Perform hyperparameter tuning.\n",
    "  - Add interpretability methods (e.g. top n-grams that drive predictions)."
   ]
  },
  {
   "cell_type": "markdown",
   "id": "ae9b4566",
   "metadata": {},
   "source": []
  }
 ],
 "metadata": {
  "kernelspec": {
   "display_name": "Python 3.12 (WSL)",
   "language": "python",
   "name": "py312"
  },
  "language_info": {
   "codemirror_mode": {
    "name": "ipython",
    "version": 3
   },
   "file_extension": ".py",
   "mimetype": "text/x-python",
   "name": "python",
   "nbconvert_exporter": "python",
   "pygments_lexer": "ipython3",
   "version": "3.13.5"
  }
 },
 "nbformat": 4,
 "nbformat_minor": 5
}
