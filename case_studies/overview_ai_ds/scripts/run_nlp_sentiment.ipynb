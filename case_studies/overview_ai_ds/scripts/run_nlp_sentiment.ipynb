{
 "cells": [
  {
   "cell_type": "code",
   "execution_count": 1,
   "id": "babbe951",
   "metadata": {},
   "outputs": [
    {
     "name": "stdout",
     "output_type": "stream",
     "text": [
      "Saving outputs to: /home/paunica/projects/DeepNets-Playground/case_studies/overview_ai_ds/scripts/case_studies/overview_ai_ds/outputs\n"
     ]
    }
   ],
   "source": [
    "# --- Imports & paths ---\n",
    "import json\n",
    "from pathlib import Path\n",
    "import numpy as np\n",
    "import matplotlib.pyplot as plt\n",
    "\n",
    "from sklearn.datasets import fetch_20newsgroups\n",
    "from sklearn.model_selection import StratifiedKFold, cross_val_score\n",
    "from sklearn.pipeline import Pipeline\n",
    "from sklearn.feature_extraction.text import TfidfVectorizer\n",
    "from sklearn.linear_model import LogisticRegression\n",
    "from sklearn.naive_bayes import MultinomialNB\n",
    "from sklearn.metrics import accuracy_score, f1_score, classification_report, confusion_matrix\n",
    "\n",
    "RNG = 42\n",
    "\n",
    "# Where to save outputs (put everything for defense in one place)\n",
    "HERE = Path.cwd()  # or Path(__file__).resolve().parent if in .py\n",
    "OUT = Path(\"case_studies/overview_ai_ds/outputs\")\n",
    "OUT.mkdir(parents=True, exist_ok=True)\n",
    "print(\"Saving outputs to:\", OUT.resolve())\n"
   ]
  },
  {
   "cell_type": "code",
   "execution_count": 2,
   "id": "26b0e91e",
   "metadata": {},
   "outputs": [
    {
     "name": "stdout",
     "output_type": "stream",
     "text": [
      "Train size: 2379  Test size: 1584\n",
      "Classes: ['rec.autos', 'rec.motorcycles', 'sci.med', 'sci.space']\n",
      "\n",
      "Sample text preview:\n",
      " Alright, beat this automobile sighting.\n",
      "\n",
      "Driving along just a hair north of Atlanta, I noticed an old, run down\n",
      "former car dealership which appeared to deal with, and repair, older\n",
      "rare or exotic foreign sports cars. I saw:\n",
      "\n",
      "Ford GT-40 (!), the famous model from Ford, that seemed to win most of \n",
      "its races in the late 60s, including Le-Mans 4 or 6 times.\n",
      "\n",
      "Two Jensen Interceptors, one a convertable, ...\n"
     ]
    }
   ],
   "source": [
    "# Load 20 Newsgroups (subset of 4 classes)\n",
    "CATS = ['rec.autos','rec.motorcycles','sci.med','sci.space']\n",
    "train = fetch_20newsgroups(subset='train', categories=CATS, remove=('headers','footers','quotes'),\n",
    "                           shuffle=True, random_state=RNG)\n",
    "test  = fetch_20newsgroups(subset='test',  categories=CATS, remove=('headers','footers','quotes'),\n",
    "                           shuffle=True, random_state=RNG)\n",
    "\n",
    "Xtr, ytr = train.data, train.target\n",
    "Xte, yte = test.data,  test.target\n",
    "target_names = train.target_names\n",
    "\n",
    "print(\"Train size:\", len(Xtr), \" Test size:\", len(Xte))\n",
    "print(\"Classes:\", target_names)\n",
    "print(\"\\nSample text preview:\\n\", Xtr[0][:400], \"...\")\n"
   ]
  },
  {
   "cell_type": "code",
   "execution_count": 3,
   "id": "b5961162",
   "metadata": {},
   "outputs": [],
   "source": [
    "# Pipelines: TF-IDF + classifiers \n",
    "tfidf = TfidfVectorizer(ngram_range=(1,2), min_df=2, max_df=0.9)\n",
    "\n",
    "logreg = Pipeline([\n",
    "    (\"tfidf\", tfidf),\n",
    "    (\"clf\", LogisticRegression(max_iter=1000, random_state=RNG))\n",
    "])\n",
    "\n",
    "nb = Pipeline([\n",
    "    (\"tfidf\", tfidf),\n",
    "    (\"clf\", MultinomialNB())\n",
    "])\n",
    "\n",
    "cv = StratifiedKFold(n_splits=5, shuffle=True, random_state=RNG)\n"
   ]
  },
  {
   "cell_type": "code",
   "execution_count": 4,
   "id": "fc154907",
   "metadata": {},
   "outputs": [
    {
     "name": "stdout",
     "output_type": "stream",
     "text": [
      "LogReg CV macro-F1: 0.823 ± 0.017  [0.829 0.795 0.833 0.844 0.814]\n",
      "NaiveBayes CV macro-F1: 0.836 ± 0.027  [0.834 0.791 0.858 0.87  0.826]\n"
     ]
    }
   ],
   "source": [
    "# Cross-validation scores \n",
    "cv_lr = cross_val_score(logreg, Xtr, ytr, cv=cv, scoring=\"f1_macro\")\n",
    "cv_nb = cross_val_score(nb,     Xtr, ytr, cv=cv, scoring=\"f1_macro\")\n",
    "\n",
    "print(f\"LogReg CV macro-F1: {cv_lr.mean():.3f} ± {cv_lr.std():.3f}  {np.round(cv_lr,3)}\")\n",
    "print(f\"NaiveBayes CV macro-F1: {cv_nb.mean():.3f} ± {cv_nb.std():.3f}  {np.round(cv_nb,3)}\")\n"
   ]
  },
  {
   "cell_type": "code",
   "execution_count": 5,
   "id": "548c099f",
   "metadata": {},
   "outputs": [
    {
     "name": "stdout",
     "output_type": "stream",
     "text": [
      "\n",
      "LogReg TEST:\n",
      "acc=0.819  f1_macro=0.820\n",
      "                 precision    recall  f1-score   support\n",
      "\n",
      "      rec.autos      0.793     0.793     0.793       396\n",
      "rec.motorcycles      0.733     0.847     0.786       398\n",
      "        sci.med      0.898     0.803     0.848       396\n",
      "      sci.space      0.877     0.832     0.854       394\n",
      "\n",
      "       accuracy                          0.819      1584\n",
      "      macro avg      0.825     0.819     0.820      1584\n",
      "   weighted avg      0.825     0.819     0.820      1584\n",
      "\n",
      "\n",
      "NaiveBayes TEST:\n",
      "acc=0.824  f1_macro=0.824\n",
      "                 precision    recall  f1-score   support\n",
      "\n",
      "      rec.autos      0.822     0.806     0.814       396\n",
      "rec.motorcycles      0.784     0.766     0.775       398\n",
      "        sci.med      0.814     0.894     0.852       396\n",
      "      sci.space      0.882     0.832     0.856       394\n",
      "\n",
      "       accuracy                          0.824      1584\n",
      "      macro avg      0.825     0.825     0.824      1584\n",
      "   weighted avg      0.825     0.824     0.824      1584\n",
      "\n"
     ]
    }
   ],
   "source": [
    "# Fit & test evaluation \n",
    "logreg.fit(Xtr, ytr)\n",
    "yp_lr = logreg.predict(Xte)\n",
    "\n",
    "nb.fit(Xtr, ytr)\n",
    "yp_nb = nb.predict(Xte)\n",
    "\n",
    "print(\"\\nLogReg TEST:\")\n",
    "print(f\"acc={accuracy_score(yte, yp_lr):.3f}  f1_macro={f1_score(yte, yp_lr, average='macro'):.3f}\")\n",
    "print(classification_report(yte, yp_lr, target_names=target_names, digits=3))\n",
    "\n",
    "print(\"\\nNaiveBayes TEST:\")\n",
    "print(f\"acc={accuracy_score(yte, yp_nb):.3f}  f1_macro={f1_score(yte, yp_nb, average='macro'):.3f}\")\n",
    "print(classification_report(yte, yp_nb, target_names=target_names, digits=3))\n"
   ]
  },
  {
   "cell_type": "code",
   "execution_count": 6,
   "id": "1ad38d93",
   "metadata": {},
   "outputs": [
    {
     "name": "stdout",
     "output_type": "stream",
     "text": [
      "Saved → case_studies/overview_ai_ds/outputs/metrics_20news.json\n"
     ]
    }
   ],
   "source": [
    "# Save metrics to JSON (for your overview script to display) \n",
    "metrics = {\n",
    "    \"LogReg\": {\n",
    "        \"cv_f1_mean\": float(cv_lr.mean()), \"cv_f1_std\": float(cv_lr.std()),\n",
    "        \"test_acc\": float(accuracy_score(yte, yp_lr)),\n",
    "        \"test_f1_macro\": float(f1_score(yte, yp_lr, average='macro'))\n",
    "    },\n",
    "    \"NaiveBayes\": {\n",
    "        \"cv_f1_mean\": float(cv_nb.mean()), \"cv_f1_std\": float(cv_nb.std()),\n",
    "        \"test_acc\": float(accuracy_score(yte, yp_nb)),\n",
    "        \"test_f1_macro\": float(f1_score(yte, yp_nb, average='macro'))\n",
    "    }\n",
    "}\n",
    "(OUT / \"metrics_20news.json\").write_text(json.dumps(metrics, indent=2))\n",
    "print(\"Saved →\", OUT / \"metrics_20news.json\")\n"
   ]
  },
  {
   "cell_type": "code",
   "execution_count": 7,
   "id": "07af1e27",
   "metadata": {},
   "outputs": [
    {
     "data": {
      "image/png": "[encoded data removed]",
      "text/plain": [
       "<Figure size 500x400 with 1 Axes>"
      ]
     },
     "metadata": {},
     "output_type": "display_data"
    },
    {
     "name": "stdout",
     "output_type": "stream",
     "text": [
      "Saved: case_studies/overview_ai_ds/outputs/nlp_confusion_logreg.png\n"
     ]
    },
    {
     "data": {
      "image/png": "[encoded data removed]",
      "text/plain": [
       "<Figure size 500x400 with 1 Axes>"
      ]
     },
     "metadata": {},
     "output_type": "display_data"
    },
    {
     "name": "stdout",
     "output_type": "stream",
     "text": [
      "Saved: case_studies/overview_ai_ds/outputs/nlp_confusion_naive_bayes.png\n"
     ]
    }
   ],
   "source": [
    "# Confusion matrices + save PNGs \n",
    "def save_confusion(y_true, y_pred, title, fname):\n",
    "    cm = confusion_matrix(y_true, y_pred)\n",
    "    plt.figure(figsize=(5,4))\n",
    "    plt.imshow(cm)\n",
    "    plt.title(title)\n",
    "    plt.xlabel(\"Predicted\"); plt.ylabel(\"True\")\n",
    "    for i in range(cm.shape[0]):\n",
    "        for j in range(cm.shape[1]):\n",
    "            v = cm[i,j]\n",
    "            plt.text(j, i, v, ha=\"center\", va=\"center\")\n",
    "    plt.tight_layout()\n",
    "    path = OUT / fname\n",
    "    plt.savefig(path, dpi=150)\n",
    "    plt.show()\n",
    "    print(\"Saved:\", path)\n",
    "\n",
    "save_confusion(yte, yp_lr, \"Confusion — LogReg (TF-IDF)\", \"nlp_confusion_logreg.png\")\n",
    "save_confusion(yte, yp_nb, \"Confusion — NaiveBayes (TF-IDF)\", \"nlp_confusion_naive_bayes.png\")\n"
   ]
  },
  {
   "cell_type": "code",
   "execution_count": 8,
   "id": "354a5aae",
   "metadata": {},
   "outputs": [
    {
     "name": "stdout",
     "output_type": "stream",
     "text": [
      "\n",
      "Class: rec.autos\n",
      "  Top + tokens: ['car', 'cars', 'the car', 'dealer', 'ford', 'engine', 'auto', 'toyota', 'gt', 'price']\n",
      "  Top - tokens: ['bike', 'of', 'space', 'to', 'is', 'bikes', 'dod', 'some', 'of the', 'the bike']\n",
      "\n",
      "Class: rec.motorcycles\n",
      "  Top + tokens: ['bike', 'dod', 'bikes', 'ride', 'motorcycle', 'helmet', 'riding', 'the bike', 'dog', 'bmw']\n",
      "  Top - tokens: ['space', 'of', 'car', 'is', 'be', 'are', 'would', 'these', 'cars', 'msg']\n",
      "\n",
      "Class: sci.med\n",
      "  Top + tokens: ['of', 'msg', 'is', 'doctor', 'disease', 'medical', 'she', 'pain', 'patients', 'food']\n",
      "  Top - tokens: ['car', 'space', 'bike', 'the', 'cars', 'on', 'engine', 'you', 'dod', 'drive']\n",
      "\n",
      "Class: sci.space\n",
      "  Top + tokens: ['space', 'nasa', 'orbit', 'launch', 'moon', 'earth', 'shuttle', 'spacecraft', 'the moon', 'lunar']\n",
      "  Top - tokens: ['my', 'car', 'your', 'bike', 'cars', 'me', 'with', 'any', 'msg', 'you']\n"
     ]
    }
   ],
   "source": [
    "# Most informative features per class for LogReg \n",
    "# Works for linear models; for 4 classes we can show top weights per class.\n",
    "clf = logreg.named_steps[\"clf\"]\n",
    "vocab = logreg.named_steps[\"tfidf\"].get_feature_names_out()\n",
    "\n",
    "if hasattr(clf, \"coef_\"):\n",
    "    for cls_idx, cls_name in enumerate(target_names):\n",
    "        coefs = clf.coef_[cls_idx]\n",
    "        top_pos = np.argsort(coefs)[-10:][::-1]\n",
    "        top_neg = np.argsort(coefs)[:10]\n",
    "        print(f\"\\nClass: {cls_name}\")\n",
    "        print(\"  Top + tokens:\", [vocab[i] for i in top_pos])\n",
    "        print(\"  Top - tokens:\", [vocab[i] for i in top_neg])\n"
   ]
  },
  {
   "cell_type": "code",
   "execution_count": null,
   "id": "ef1bf3ca",
   "metadata": {},
   "outputs": [],
   "source": []
  },
  {
   "cell_type": "code",
   "execution_count": null,
   "id": "93550064-baac-4a02-bd09-e2b994370ecd",
   "metadata": {},
   "outputs": [],
   "source": []
  }
 ],
 "metadata": {
  "kernelspec": {
   "display_name": "Python 3 (ipykernel)",
   "language": "python",
   "name": "python3"
  },
  "language_info": {
   "codemirror_mode": {
    "name": "ipython",
    "version": 3
   },
   "file_extension": ".py",
   "mimetype": "text/x-python",
   "name": "python",
   "nbconvert_exporter": "python",
   "pygments_lexer": "ipython3",
   "version": "3.8.10"
  }
 },
 "nbformat": 4,
 "nbformat_minor": 5
}
