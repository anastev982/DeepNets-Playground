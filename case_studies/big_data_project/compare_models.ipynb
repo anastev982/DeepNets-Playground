{
 "cells": [
  {
   "cell_type": "markdown",
   "id": "ff3dadb0-b954-472d-81a3-3547b2916b3d",
   "metadata": {},
   "source": [
    "Compare multiple ML models per gene on LN_IC50 target.\n",
    "\n",
    "Extension of the single-model script:\n",
    "- loads Parquet with pandas (fast metadata / adequate for medium subsets)\n",
    "- evaluates multiple models per gene (train/test split)\n",
    "- saves long & wide CSVs\n",
    "- saves one bar plot per model (Top-N genes with lowest MSE)"
   ]
  },
  {
   "cell_type": "code",
   "execution_count": 1,
   "id": "b15d88f8-5c3c-4fef-af21-9ca1722ae7e1",
   "metadata": {},
   "outputs": [
    {
     "name": "stderr",
     "output_type": "stream",
     "text": [
      "WARNING: Using incubator modules: jdk.incubator.vector\n",
      "Using Spark's default log4j profile: org/apache/spark/log4j2-defaults.properties\n",
      "25/09/10 12:11:54 WARN Utils: Your hostname, Anapc, resolves to a loopback address: 127.0.1.1; using 10.255.255.254 instead (on interface lo)\n",
      "25/09/10 12:11:54 WARN Utils: Set SPARK_LOCAL_IP if you need to bind to another address\n",
      "Using Spark's default log4j profile: org/apache/spark/log4j2-defaults.properties\n",
      "Setting default log level to \"WARN\".\n",
      "To adjust logging level use sc.setLogLevel(newLevel). For SparkR, use setLogLevel(newLevel).\n",
      "25/09/10 12:11:55 WARN NativeCodeLoader: Unable to load native-hadoop library for your platform... using builtin-java classes where applicable\n"
     ]
    },
    {
     "name": "stdout",
     "output_type": "stream",
     "text": [
      "root\n",
      " |-- MedInc: double (nullable = true)\n",
      " |-- HouseAge: double (nullable = true)\n",
      " |-- AveRooms: double (nullable = true)\n",
      " |-- AveBedrms: double (nullable = true)\n",
      " |-- Population: double (nullable = true)\n",
      " |-- AveOccup: double (nullable = true)\n",
      " |-- Latitude: double (nullable = true)\n",
      " |-- Longitude: double (nullable = true)\n",
      " |-- MedHouseVal: double (nullable = true)\n",
      "\n",
      "+------+--------+------------------+------------------+----------+------------------+--------+---------+-----------+\n",
      "|MedInc|HouseAge|AveRooms          |AveBedrms         |Population|AveOccup          |Latitude|Longitude|MedHouseVal|\n",
      "+------+--------+------------------+------------------+----------+------------------+--------+---------+-----------+\n",
      "|3.9792|22.0    |5.855203619909502 |0.9841628959276018|1198.0    |2.7104072398190047|40.8    |-124.02  |1.339      |\n",
      "|1.1157|18.0    |2.5637450199203187|0.9641434262948207|805.0     |1.6035856573705178|40.86   |-124.08  |1.5        |\n",
      "|1.1742|25.0    |3.4881266490765173|1.0211081794195251|794.0     |2.094986807387863 |40.86   |-124.09  |0.75       |\n",
      "|1.1576|44.0    |3.279620853080569 |0.976303317535545 |398.0     |1.886255924170616 |40.87   |-124.09  |0.875      |\n",
      "|2.2138|47.0    |5.3003003003003   |0.978978978978979 |796.0     |2.3903903903903903|40.87   |-124.07  |0.992      |\n",
      "+------+--------+------------------+------------------+----------+------------------+--------+---------+-----------+\n",
      "only showing top 5 rows\n"
     ]
    }
   ],
   "source": [
    "from pyspark.sql import SparkSession\n",
    "spark = SparkSession.builder.appName(\"Project2-ML\").config(\"spark.ui.showConsoleProgress\",\"false\").getOrCreate()\n",
    "\n",
    "from pathlib import Path\n",
    "DF_PATH = Path(\"data/california_housing.parquet\")\n",
    "if not DF_PATH.exists():\n",
    "    from sklearn.datasets import fetch_california_housing\n",
    "    import pandas as pd\n",
    "    DF_PATH.parent.mkdir(parents=True, exist_ok=True)\n",
    "    pdf = fetch_california_housing(as_frame=True).frame\n",
    "    spark.createDataFrame(pdf).write.mode(\"overwrite\").parquet(str(DF_PATH))\n",
    "\n",
    "df = spark.read.parquet(str(DF_PATH))\n",
    "df.printSchema(); df.show(5, truncate=False)\n"
   ]
  },
  {
   "cell_type": "code",
   "execution_count": 2,
   "id": "bc5a7107-21be-407f-9c58-561833d29d5a",
   "metadata": {},
   "outputs": [
    {
     "name": "stdout",
     "output_type": "stream",
     "text": [
      "+------------------+\n",
      "|        avg_income|\n",
      "+------------------+\n",
      "|3.8706710029069775|\n",
      "+------------------+\n",
      "\n",
      "+------------------+\n",
      "| corr_income_price|\n",
      "+------------------+\n",
      "|0.6880752079585484|\n",
      "+------------------+\n",
      "\n",
      "+----+----+------------------+\n",
      "| lat|   n|         avg_price|\n",
      "+----+----+------------------+\n",
      "|34.0|9133|2.2958732738421106|\n",
      "|37.0|2317| 2.247897583081569|\n",
      "|38.0|4116|2.2210915330417875|\n",
      "|33.0|1811| 1.939257056874655|\n",
      "|39.0|1432|1.3371683030726256|\n",
      "|35.0| 741|1.3314710256410256|\n",
      "|36.0| 481|0.9137629937629935|\n",
      "|41.0| 257|0.8875330739299613|\n",
      "|40.0| 310|0.8548192903225805|\n",
      "|42.0|  42| 0.723547619047619|\n",
      "+----+----+------------------+\n",
      "\n"
     ]
    }
   ],
   "source": [
    "from pyspark.sql.functions import avg, corr, col\n",
    "\n",
    "df.select(avg(\"MedInc\").alias(\"avg_income\")).show()\n",
    "df.select(corr(\"MedInc\",\"MedHouseVal\").alias(\"corr_income_price\")).show()\n",
    "\n",
    "df.createOrReplaceTempView(\"cal\")\n",
    "spark.sql(\"\"\"\n",
    "  SELECT ROUND(Latitude) AS lat, COUNT(*) AS n, AVG(MedHouseVal) AS avg_price\n",
    "  FROM cal GROUP BY ROUND(Latitude) ORDER BY avg_price DESC LIMIT 10\n",
    "\"\"\").show()\n"
   ]
  },
  {
   "cell_type": "code",
   "execution_count": 3,
   "id": "151b6fb0-d2be-4559-b18b-a2f9a3ed2af7",
   "metadata": {},
   "outputs": [
    {
     "name": "stdout",
     "output_type": "stream",
     "text": [
      "+---------------------------------------------------------------------------------------------------------------------------------------------------------------+\n",
      "|features                                                                                                                                                       |\n",
      "+---------------------------------------------------------------------------------------------------------------------------------------------------------------+\n",
      "|[2.0945123231371734,1.7480353813507965,2.3665294585131043,2.076683582609619,1.0578720267769266,0.2609661376621937,19.101549289475365,-61.90069193573177,0.0]   |\n",
      "|[0.5872656310123,1.4302107665597426,1.0362027535861296,2.0344404701218597,0.7108405522165493,0.15439803630483928,19.129639803136357,-61.93063905326236,0.0]    |\n",
      "|[0.6180579940258516,1.9864038424440869,1.4098150988285811,2.1546418799606086,0.7011272030558262,0.20171161275888913,19.129639803136357,-61.935630239517465,0.0]|\n",
      "+---------------------------------------------------------------------------------------------------------------------------------------------------------------+\n",
      "only showing top 3 rows\n"
     ]
    }
   ],
   "source": [
    "from pyspark.sql.functions import when\n",
    "from pyspark.ml.feature import VectorAssembler, StandardScaler\n",
    "from pyspark.ml import Pipeline\n",
    "\n",
    "# Primer imputacije i jednostavnog feature-a:\n",
    "df_prep = df.na.fill({\"Population\": 0})\n",
    "df_prep = df_prep.withColumn(\"flag_old\", when(col(\"HouseAge\") > 30, 1).otherwise(0))\n",
    "\n",
    "# Sve numeričke + novi feature\n",
    "num_cols = [\"MedInc\",\"HouseAge\",\"AveRooms\",\"AveBedrms\",\"Population\",\"AveOccup\",\"Latitude\",\"Longitude\",\"flag_old\"]\n",
    "\n",
    "assembler = VectorAssembler(inputCols=num_cols, outputCol=\"features_raw\")\n",
    "scaler    = StandardScaler(inputCol=\"features_raw\", outputCol=\"features\", withMean=False, withStd=True)\n",
    "\n",
    "fe_model = Pipeline(stages=[assembler, scaler]).fit(df_prep)\n",
    "df_fe = fe_model.transform(df_prep)\n",
    "\n",
    "df_fe.select(\"features\").show(3, truncate=False)\n"
   ]
  },
  {
   "cell_type": "code",
   "execution_count": 4,
   "id": "f404a57e-c59c-4a64-b370-3ca3a975dd6e",
   "metadata": {},
   "outputs": [
    {
     "ename": "NameError",
     "evalue": "name 'pd' is not defined",
     "output_type": "error",
     "traceback": [
      "\u001b[31m---------------------------------------------------------------------------\u001b[39m",
      "\u001b[31mNameError\u001b[39m                                 Traceback (most recent call last)",
      "\u001b[36mCell\u001b[39m\u001b[36m \u001b[39m\u001b[32mIn[4]\u001b[39m\u001b[32m, line 14\u001b[39m\n\u001b[32m     11\u001b[39m         df.rename(columns={\u001b[33m\"\u001b[39m\u001b[33mMedHouseVal\u001b[39m\u001b[33m\"\u001b[39m: \u001b[33m\"\u001b[39m\u001b[33mLN_IC50\u001b[39m\u001b[33m\"\u001b[39m}, inplace=\u001b[38;5;28;01mTrue\u001b[39;00m)\n\u001b[32m     12\u001b[39m     \u001b[38;5;28;01mreturn\u001b[39;00m df\n\u001b[32m---> \u001b[39m\u001b[32m14\u001b[39m df = \u001b[43mload_data\u001b[49m\u001b[43m(\u001b[49m\u001b[43m)\u001b[49m\n\u001b[32m     15\u001b[39m \u001b[38;5;28mprint\u001b[39m(df.head())\n",
      "\u001b[36mCell\u001b[39m\u001b[36m \u001b[39m\u001b[32mIn[4]\u001b[39m\u001b[32m, line 4\u001b[39m, in \u001b[36mload_data\u001b[39m\u001b[34m()\u001b[39m\n\u001b[32m      1\u001b[39m \u001b[38;5;28;01mdef\u001b[39;00m\u001b[38;5;250m \u001b[39m\u001b[34mload_data\u001b[39m():\n\u001b[32m      2\u001b[39m     \u001b[38;5;28;01mtry\u001b[39;00m:\n\u001b[32m      3\u001b[39m         \u001b[38;5;66;03m# pokušaj čitanja mog fajla\u001b[39;00m\n\u001b[32m----> \u001b[39m\u001b[32m4\u001b[39m         df = \u001b[43mpd\u001b[49m.read_parquet(DATA_PATH)\n\u001b[32m      5\u001b[39m         \u001b[38;5;28mprint\u001b[39m(\u001b[33mf\u001b[39m\u001b[33m\"\u001b[39m\u001b[33mLoaded \u001b[39m\u001b[38;5;132;01m{\u001b[39;00mDATA_PATH\u001b[38;5;132;01m}\u001b[39;00m\u001b[33m\"\u001b[39m)\n\u001b[32m      6\u001b[39m     \u001b[38;5;28;01mexcept\u001b[39;00m \u001b[38;5;167;01mFileNotFoundError\u001b[39;00m:\n",
      "\u001b[31mNameError\u001b[39m: name 'pd' is not defined"
     ]
    }
   ],
   "source": [
    "def load_data():\n",
    "    try:\n",
    "        # pokušaj čitanja mog fajla\n",
    "        df = pd.read_parquet(DATA_PATH)\n",
    "        print(f\"Loaded {DATA_PATH}\")\n",
    "    except FileNotFoundError:\n",
    "        print(\"Parquet file not found, using California housing dataset instead.\")\n",
    "        data = fetch_california_housing(as_frame=True)\n",
    "        df = data.frame\n",
    "        # target se u mom projektu zvao LN_IC50 → ovde ga preslikavam\n",
    "        df.rename(columns={\"MedHouseVal\": \"LN_IC50\"}, inplace=True)\n",
    "    return df\n",
    "\n",
    "df = load_data()\n",
    "print(df.head())\n",
    "\n"
   ]
  },
  {
   "cell_type": "code",
   "execution_count": null,
   "id": "1e22f07b-ff90-4b93-9bfc-91328e9b91aa",
   "metadata": {},
   "outputs": [],
   "source": [
    "from pyspark.ml.classification import LogisticRegression\n",
    "from pyspark.ml.evaluation import BinaryClassificationEvaluator, MulticlassClassificationEvaluator\n",
    "\n",
    "# binarizuj target po medijani\n",
    "median_val = df.approxQuantile(\"MedHouseVal\", [0.5], 0.01)[0]\n",
    "df_cls = df_fe.withColumn(\"label\", (col(\"MedHouseVal\") >= median_val).cast(\"int\"))\n",
    "\n",
    "train_df, test_df = df_cls.select(\"features\",\"label\").randomSplit([0.8, 0.2], seed=42)\n",
    "\n",
    "lr = LogisticRegression(featuresCol=\"features\", labelCol=\"label\", maxIter=50)\n",
    "lr_model = lr.fit(train_df)\n",
    "pred = lr_model.transform(test_df)\n",
    "\n",
    "auc_roc = BinaryClassificationEvaluator(metricName=\"areaUnderROC\", labelCol=\"label\").evaluate(pred)\n",
    "auc_pr  = BinaryClassificationEvaluator(metricName=\"areaUnderPR\",  labelCol=\"label\").evaluate(pred)\n",
    "f1      = MulticlassClassificationEvaluator(metricName=\"f1\",       labelCol=\"label\").evaluate(pred)\n",
    "acc     = MulticlassClassificationEvaluator(metricName=\"accuracy\", labelCol=\"label\").evaluate(pred)\n",
    "print(f\"AUC-ROC={auc_roc:.3f}  AUC-PR={auc_pr:.3f}  F1={f1:.3f}  ACC={acc:.3f}\")"
   ]
  },
  {
   "cell_type": "code",
   "execution_count": null,
   "id": "f4024106-d7bc-44d6-9572-8b1b65eceba0",
   "metadata": {},
   "outputs": [],
   "source": []
  },
  {
   "cell_type": "code",
   "execution_count": null,
   "id": "2d6d8f0a-e46c-4371-84d5-27dd718799f6",
   "metadata": {},
   "outputs": [],
   "source": []
  },
  {
   "cell_type": "code",
   "execution_count": null,
   "id": "a215fe95-2fd1-4664-96b3-9a1f28385361",
   "metadata": {},
   "outputs": [],
   "source": []
  }
 ],
 "metadata": {
  "kernelspec": {
   "display_name": "Python 3.12 (WSL)",
   "language": "python",
   "name": "py312"
  },
  "language_info": {
   "codemirror_mode": {
    "name": "ipython",
    "version": 3
   },
   "file_extension": ".py",
   "mimetype": "text/x-python",
   "name": "python",
   "nbconvert_exporter": "python",
   "pygments_lexer": "ipython3",
   "version": "3.13.0"
  }
 },
 "nbformat": 4,
 "nbformat_minor": 5
}
