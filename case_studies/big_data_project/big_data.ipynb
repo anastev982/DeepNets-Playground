{
 "cells": [
  {
   "cell_type": "markdown",
   "id": "3126c454-5dd8-4bcf-8b63-63f6f2f3b989",
   "metadata": {},
   "source": [
    "Pregled širine Parquet fajlova (schema only)\n",
    "\n",
    "Ovde koristim Dask/PyArrow samo da pročitam šemu (broj kolona) bez učitavanja podataka.\n",
    "Rezultat pokazuje zašto su mi trebali alati za velike podatke.\n",
    "\n",
    "Fajl: sample_wide_2k.parquet – 2000 kolona\n",
    "Fajl: sample_big.parquet – 100 kolona\n",
    "Fajl: merged_clean_data.parquet – 4 kolone\n",
    "\n",
    "Objašnjenje:\n",
    "• sample_wide_2k.parquet je demo sa 2000 kolona i ilustruje problem širokih tabela.\n",
    "• sample_big.parquet je dataset sa 100 kolona, primer umerenog obima.\n",
    "• merged_clean_data.parquet je finalni očišćeni dataset sa 4 kolone."
   ]
  },
  {
   "cell_type": "code",
   "execution_count": 1,
   "id": "91f9368f",
   "metadata": {},
   "outputs": [
    {
     "name": "stdout",
     "output_type": "stream",
     "text": [
      "  Cols  Path\n",
      "   100  data/raw_data/processed/sample_big.parquet/part.0.parquet\n",
      "   100  data/raw_data/processed/sample_big.parquet\n",
      "     4  data/raw_data/processed/merged_clean_data.parquet/part.0.parquet\n",
      "     4  data/raw_data/processed/merged_clean_data.parquet\n"
     ]
    }
   ],
   "source": [
    "from pathlib import Path\n",
    "import dask.dataframe as dd\n",
    "\n",
    "ROOTS = [\n",
    "    Path(\".\"), Path(\"..\"), Path(\"../..\"),\n",
    "    Path(\"data\"), Path(\"data/raw_data/processed\"),\n",
    "    Path(\"final_features\"),\n",
    "    Path(\"model_input\"), Path(\"model_input_parquet\"),\n",
    "    Path(\"outputs\"), Path(\"subset\"), Path(\"notebooks\"),\n",
    "    Path(\"case_studies/big_data_project/data/raw_data/processed\"),\n",
    "]\n",
    "\n",
    "def all_parquet_paths(roots):\n",
    "    out = []\n",
    "    for r in roots:\n",
    "        if r.exists():\n",
    "            out += list(r.rglob(\"*.parquet\"))\n",
    "    # dedup\n",
    "    seen, uniq = set(), []\n",
    "    for p in out:\n",
    "        rp = p.resolve()\n",
    "        if rp not in seen:\n",
    "            uniq.append(p)\n",
    "            seen.add(rp)\n",
    "    return uniq\n",
    "\n",
    "rows = []\n",
    "for p in all_parquet_paths(ROOTS):\n",
    "    try:\n",
    "        df = dd.read_parquet(str(p))   # čita samo metapodatke/šemu\n",
    "        ncols = len(df.columns)\n",
    "        rows.append((ncols, str(p)))\n",
    "    except Exception:\n",
    "        pass\n",
    "\n",
    "rows.sort(reverse=True)  # po broju kolona\n",
    "print(f\"{'Cols':>6}  Path\")\n",
    "for ncols, path in rows[:10]:\n",
    "    print(f\"{ncols:6d}  {path}\")\n",
    "\n",
    "\n"
   ]
  },
  {
   "cell_type": "code",
   "execution_count": null,
   "id": "d6a1be68",
   "metadata": {},
   "outputs": [],
   "source": []
  }
 ],
 "metadata": {
  "kernelspec": {
   "display_name": "Python 3.12 (WSL)",
   "language": "python",
   "name": "py312"
  },
  "language_info": {
   "codemirror_mode": {
    "name": "ipython",
    "version": 3
   },
   "file_extension": ".py",
   "mimetype": "text/x-python",
   "name": "python",
   "nbconvert_exporter": "python",
   "pygments_lexer": "ipython3",
   "version": "3.13.0"
  }
 },
 "nbformat": 4,
 "nbformat_minor": 5
}
