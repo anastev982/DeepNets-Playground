{
 "cells": [
  {
   "cell_type": "code",
   "execution_count": 21,
   "id": "b40eb8c8",
   "metadata": {},
   "outputs": [
    {
     "name": "stdout",
     "output_type": "stream",
     "text": [
      "data/raw_data/processed/merged_clean_data.parquet: 5 kolona\n",
      "data/raw_data/processed/sample_big.parquet: 101 kolona\n",
      "data/raw_data/processed/merged_clean_data.parquet/part.0.parquet: 5 kolona\n",
      "data/raw_data/processed/sample_big.parquet/part.0.parquet: 101 kolona\n"
     ]
    }
   ],
   "source": [
    "from pathlib import Path\n",
    "import pyarrow.parquet as pq\n",
    "\n",
    "root = Path(\".\")  # ili \"../../data/raw_data/processed\" ako želiš samo taj folder\n",
    "\n",
    "for p in root.rglob(\"*.parquet\"):\n",
    "    try:\n",
    "        # ako je direktorijum (Dask stil), uzmi prvi fajl unutra\n",
    "        if p.is_dir():\n",
    "            files = list(p.glob(\"*.parquet\"))\n",
    "            if not files:\n",
    "                continue\n",
    "            pfile = files[0]\n",
    "        else:\n",
    "            pfile = p\n",
    "\n",
    "        schema = pq.read_schema(pfile)   # samo schema, ne podaci\n",
    "        print(f\"{p}: {len(schema.names)} kolona\")\n",
    "    except Exception as e:\n",
    "        print(f\"Preskačem {p}: {e}\")\n",
    "\n",
    "\n"
   ]
  },
  {
   "cell_type": "code",
   "execution_count": null,
   "id": "d6a1be68",
   "metadata": {},
   "outputs": [],
   "source": []
  }
 ],
 "metadata": {
  "kernelspec": {
   "display_name": "Python 3.12 (WSL)",
   "language": "python",
   "name": "py312"
  },
  "language_info": {
   "codemirror_mode": {
    "name": "ipython",
    "version": 3
   },
   "file_extension": ".py",
   "mimetype": "text/x-python",
   "name": "python",
   "nbconvert_exporter": "python",
   "pygments_lexer": "ipython3",
   "version": "3.13.0"
  }
 },
 "nbformat": 4,
 "nbformat_minor": 5
}
